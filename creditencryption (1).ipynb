{
  "nbformat": 4,
  "nbformat_minor": 0,
  "metadata": {
    "colab": {
      "provenance": []
    },
    "kernelspec": {
      "name": "python3",
      "display_name": "Python 3"
    },
    "language_info": {
      "name": "python"
    }
  },
  "cells": [
    {
      "cell_type": "code",
      "source": [
        "pip install pycryptodome\n"
      ],
      "metadata": {
        "colab": {
          "base_uri": "https://localhost:8080/"
        },
        "id": "V260I4CLN3ZV",
        "outputId": "37f4d4ec-ed99-4ae3-d03b-9d20dabaa74c"
      },
      "execution_count": 43,
      "outputs": [
        {
          "output_type": "stream",
          "name": "stdout",
          "text": [
            "Looking in indexes: https://pypi.org/simple, https://us-python.pkg.dev/colab-wheels/public/simple/\n",
            "Requirement already satisfied: pycryptodome in /usr/local/lib/python3.7/dist-packages (3.15.0)\n"
          ]
        }
      ]
    },
    {
      "cell_type": "code",
      "source": [
        "pip install bitstring"
      ],
      "metadata": {
        "colab": {
          "base_uri": "https://localhost:8080/"
        },
        "id": "gOLoc6p7OAvI",
        "outputId": "c500545f-14b3-4a85-a332-adac70e97ed8"
      },
      "execution_count": 44,
      "outputs": [
        {
          "output_type": "stream",
          "name": "stdout",
          "text": [
            "Looking in indexes: https://pypi.org/simple, https://us-python.pkg.dev/colab-wheels/public/simple/\n",
            "Requirement already satisfied: bitstring in /usr/local/lib/python3.7/dist-packages (3.1.9)\n"
          ]
        }
      ]
    },
    {
      "cell_type": "code",
      "source": [
        "pip install pycrypto"
      ],
      "metadata": {
        "colab": {
          "base_uri": "https://localhost:8080/"
        },
        "id": "tF1FIfePXFeC",
        "outputId": "2268df58-b5c2-499d-e4c4-aa4402f468e8"
      },
      "execution_count": 45,
      "outputs": [
        {
          "output_type": "stream",
          "name": "stdout",
          "text": [
            "Looking in indexes: https://pypi.org/simple, https://us-python.pkg.dev/colab-wheels/public/simple/\n",
            "Requirement already satisfied: pycrypto in /usr/local/lib/python3.7/dist-packages (2.6.1)\n"
          ]
        }
      ]
    },
    {
      "cell_type": "code",
      "source": [
        "from Crypto import Random\n",
        "from Crypto.Cipher import AES\n",
        "import os\n",
        "import os.path\n",
        "from os import listdir\n",
        "from os.path import isfile, join\n",
        "import time"
      ],
      "metadata": {
        "id": "3u7uIodgXxZY"
      },
      "execution_count": 46,
      "outputs": []
    },
    {
      "cell_type": "code",
      "source": [
        "##Check the Credit card number is valid or not \n",
        "\n",
        "class CreditCard:\n",
        "\tdef main(args):\n",
        "\t\tnumber = int(input(\"Enter Credit Card Number: \"))\n",
        "\t\tif (CreditCard.isValid(number)):\n",
        "\t\t    \n",
        "\t\t      f = open(\"Credit Card Number.txt\", \"w+\")\n",
        "\t\t      f.write(str(number))\n",
        "\t\t      f.close() \n",
        "            \n",
        "\t\tprint(str(number) + \" Credit Card number is \" + (\"valid\" if CreditCard.isValid(number) else \"invalid\"))\n",
        "\t\t\n",
        "\tdef isValid(number):\n",
        "\t\treturn (CreditCard.getSize(number) >= 13 and CreditCard.getSize(number) <= 16) and (CreditCard.prefixMatched(number, 4) or CreditCard.prefixMatched(number, 5) or CreditCard.prefixMatched(number, 37) or CreditCard.prefixMatched(number, 6)) and ((CreditCard.sumOfDoubleEvenPlace(number) + CreditCard.sumOfOddPlace(number)) % 10 == 0)\n",
        "\t\n",
        "\tdef sumOfDoubleEvenPlace(number):\n",
        "\t\tsum = 0\n",
        "\t\tnum = str(number) + \"\"\n",
        "\t\ti = CreditCard.getSize(number) - 2\n",
        "\t\twhile (i >= 0):\n",
        "\t\t\tsum += CreditCard.getDigit(int(str(num[i]) + \"\") * 2)\n",
        "\t\t\ti -= 2\n",
        "\t\treturn sum\n",
        "\t\n",
        "\tdef getDigit(number):\n",
        "\t\tif (number < 9):\n",
        "\t\t\treturn number\n",
        "\t\treturn int(number / 10) + number % 10\n",
        "\t\n",
        "\tdef sumOfOddPlace(number):\n",
        "\t\tsum = 0\n",
        "\t\tnum = str(number) + \"\"\n",
        "\t\ti = CreditCard.getSize(number) - 1\n",
        "\t\twhile (i >= 0):\n",
        "\t\t\tsum += int(str(num[i]) + \"\")\n",
        "\t\t\ti -= 2\n",
        "\t\treturn sum\n",
        "\t\n",
        "\tdef prefixMatched(number, d):\n",
        "\t\treturn CreditCard.getPrefix(number, CreditCard.getSize(d)) == d\n",
        "\t\n",
        "\tdef getSize(d):\n",
        "\t\tnum = str(d) + \"\"\n",
        "\t\treturn len(num)\n",
        "\t\n",
        "\tdef getPrefix(number, k):\n",
        "\t\tif (CreditCard.getSize(number) > k):\n",
        "\t\t\tnum = str(number) + \"\"\n",
        "\t\t\treturn int(num[0:k])\n",
        "\t\treturn number\n",
        "\n",
        "if __name__ == \"__main__\":\n",
        "\tCreditCard.main([])\n",
        "##379354508162306\n"
      ],
      "metadata": {
        "colab": {
          "base_uri": "https://localhost:8080/"
        },
        "id": "rzOV_RB7Ko1F",
        "outputId": "98a4ca81-e2ad-49a8-92b3-1e28af90c446"
      },
      "execution_count": 49,
      "outputs": [
        {
          "output_type": "stream",
          "name": "stdout",
          "text": [
            "Enter Credit Card Number: 379354508162306\n",
            "379354508162306 Credit Card number is valid\n"
          ]
        }
      ]
    },
    {
      "cell_type": "code",
      "source": [
        "  class Encryptor:\n",
        "    def __init__(self, key):\n",
        "        self.key = key\n",
        "\n",
        "    def pad(self, s):\n",
        "        return s + b\"\\0\" * (AES.block_size - len(s) % AES.block_size)\n",
        "\n",
        "    def encrypt(self, message, key, key_size=256):\n",
        "        message = self.pad(message)\n",
        "        iv = Random.new().read(AES.block_size)\n",
        "        cipher = AES.new(key, AES.MODE_CBC, iv)\n",
        "        return iv + cipher.encrypt(message)\n",
        "\n",
        "    def encrypt_file(self, file_name):\n",
        "        with open(file_name, 'rb') as fo:\n",
        "            plaintext = fo.read()\n",
        "        enc = self.encrypt(plaintext, self.key)\n",
        "        with open(file_name + \".enc\", 'wb') as fo:\n",
        "            fo.write(enc)\n",
        "        os.remove(file_name)\n",
        "\n",
        "    def decrypt(self, ciphertext, key):\n",
        "        iv = ciphertext[:AES.block_size]\n",
        "        cipher = AES.new(key, AES.MODE_CBC, iv)\n",
        "        plaintext = cipher.decrypt(ciphertext[AES.block_size:])\n",
        "        return plaintext.rstrip(b\"\\0\")\n",
        "\n",
        "    def decrypt_file(self, file_name):\n",
        "        with open(file_name, 'rb') as fo:\n",
        "            ciphertext = fo.read()\n",
        "        dec = self.decrypt(ciphertext, self.key)\n",
        "        with open(file_name[:-4], 'wb') as fo:\n",
        "            fo.write(dec)\n",
        "        os.remove(file_name)\n",
        "\n",
        "    def getAllFiles(self):\n",
        "        dir_path = os.path.dirname(os.path.realpath(__file__))\n",
        "        dirs = []\n",
        "        for dirName, subdirList, fileList in os.walk(dir_path):\n",
        "            for fname in fileList:\n",
        "                if (fname != 'script.py' and fname != 'data.txt.enc'):\n",
        "                    dirs.append(dirName + \"\\\\\" + fname)\n",
        "        return dirs\n",
        "\n",
        "    def encrypt_all_files(self):\n",
        "        dirs = self.getAllFiles()\n",
        "        for file_name in dirs:\n",
        "            self.encrypt_file(file_name)\n",
        "\n",
        "    def decrypt_all_files(self):\n",
        "        dirs = self.getAllFiles()\n",
        "        for file_name in dirs:\n",
        "            self.decrypt_file(file_name)\n",
        "\n",
        "\n",
        "key = b'[EX\\xc8\\xd5\\xbfI{\\xa2$\\x05(\\xd5\\x18\\xbf\\xc0\\x85)\\x10nc\\x94\\x02)j\\xdf\\xcb\\xc4\\x94\\x9d(\\x9e'\n",
        "enc = Encryptor(key)\n",
        "clear = lambda: os.system('cls')\n",
        "\n",
        "if os.path.isfile('data.txt.enc'):\n",
        "    while True:\n",
        "        password = str(input(\"Enter password: \"))\n",
        "        enc.decrypt_file(\"data.txt.enc\")\n",
        "        p = ''\n",
        "        with open(\"data.txt\", \"r\") as f:\n",
        "            p = f.readlines()\n",
        "        if p[0] == password:\n",
        "            enc.encrypt_file(\"data.txt\")\n",
        "            break\n",
        "\n",
        "    while True:\n",
        "        clear()\n",
        "        choice = int(input(\"1. Press '1' to encrypt file.\\n2. Press '2' to decrypt file.\\n3. Press '3' to Encrypt all files in the directory.\\n4. Press '4' to decrypt all files in the directory.\\n5. Press '5' to exit.\\n\"))\n",
        "        clear()\n",
        "        if choice == 1:\n",
        "            enc.encrypt_file(str(input(\"Enter name of file to encrypt: \")))\n",
        "        elif choice == 2:\n",
        "            enc.decrypt_file(str(input(\"Enter name of file to decrypt: \")))\n",
        "        elif choice == 3:\n",
        "            enc.encrypt_all_files()\n",
        "        elif choice == 4:\n",
        "            enc.decrypt_all_files()\n",
        "        elif choice == 5:\n",
        "            exit()\n",
        "        else:\n",
        "            print(\"Please select a valid option!\")\n",
        "\n",
        "else:\n",
        "    while True:\n",
        "        clear()\n",
        "        password = str(input(\"Setting up stuff. Enter a password that will be used for decryption: \"))\n",
        "        repassword = str(input(\"Confirm password: \"))\n",
        "        if password == repassword:\n",
        "            break\n",
        "        else:\n",
        "            print(\"Passwords Mismatched!\")\n",
        "    f = open(\"data.txt\", \"w+\")\n",
        "    f.write(password)\n",
        "    f.close()\n",
        "    enc.encrypt_file(\"data.txt\")\n",
        "    print(\"Please restart the program to complete the setup\")\n",
        "    time.sleep(15)\n"
      ],
      "metadata": {
        "colab": {
          "base_uri": "https://localhost:8080/"
        },
        "id": "xY5CsqRxZAQ7",
        "outputId": "b3ac864e-09dc-4e02-caab-443bb48781f6"
      },
      "execution_count": 50,
      "outputs": [
        {
          "output_type": "stream",
          "name": "stdout",
          "text": [
            "Setting up stuff. Enter a password that will be used for decryption: jhatu\n",
            "Confirm password: jhatu\n",
            "Please restart the program to complete the setup\n"
          ]
        }
      ]
    },
    {
      "cell_type": "code",
      "source": [
        "class Encryptor:\n",
        "    def __init__(self, key):\n",
        "        self.key = key\n",
        "\n",
        "    def pad(self, s):\n",
        "        return s + b\"\\0\" * (AES.block_size - len(s) % AES.block_size)\n",
        "\n",
        "    def encrypt(self, message, key, key_size=256):\n",
        "        message = self.pad(message)\n",
        "        iv = Random.new().read(AES.block_size)\n",
        "        cipher = AES.new(key, AES.MODE_CBC, iv)\n",
        "        return iv + cipher.encrypt(message)\n",
        "\n",
        "    def encrypt_file(self, file_name):\n",
        "        with open(file_name, 'rb') as fo:\n",
        "            plaintext = fo.read()\n",
        "        enc = self.encrypt(plaintext, self.key)\n",
        "        with open(file_name + \".enc\", 'wb') as fo:\n",
        "            fo.write(enc)\n",
        "        os.remove(file_name)\n",
        "\n",
        "    def decrypt(self, ciphertext, key):\n",
        "        iv = ciphertext[:AES.block_size]\n",
        "        cipher = AES.new(key, AES.MODE_CBC, iv)\n",
        "        plaintext = cipher.decrypt(ciphertext[AES.block_size:])\n",
        "        return plaintext.rstrip(b\"\\0\")\n",
        "\n",
        "    def decrypt_file(self, file_name):\n",
        "        with open(file_name, 'rb') as fo:\n",
        "            ciphertext = fo.read()\n",
        "        dec = self.decrypt(ciphertext, self.key)\n",
        "        with open(file_name[:-4], 'wb') as fo:\n",
        "            fo.write(dec)\n",
        "        os.remove(file_name)\n",
        "\n",
        "    def getAllFiles(self):\n",
        "        dir_path = os.path.dirname(os.path.realpath(__file__))\n",
        "        dirs = []\n",
        "        for dirName, subdirList, fileList in os.walk(dir_path):\n",
        "            for fname in fileList:\n",
        "                if (fname != 'script.py' and fname != 'data.txt.enc'):\n",
        "                    dirs.append(dirName + \"\\\\\" + fname)\n",
        "        return dirs\n",
        "\n",
        "    def encrypt_all_files(self):\n",
        "        dirs = self.getAllFiles()\n",
        "        for file_name in dirs:\n",
        "            self.encrypt_file(file_name)\n",
        "\n",
        "    def decrypt_all_files(self):\n",
        "        dirs = self.getAllFiles()\n",
        "        for file_name in dirs:\n",
        "            self.decrypt_file(file_name)\n",
        "\n",
        "\n",
        "key = b'[EX\\xc8\\xd5\\xbfI{\\xa2$\\x05(\\xd5\\x18\\xbf\\xc0\\x85)\\x10nc\\x94\\x02)j\\xdf\\xcb\\xc4\\x94\\x9d(\\x9e'\n",
        "enc = Encryptor(key)\n",
        "clear = lambda: os.system('cls')\n",
        "\n",
        "if os.path.isfile('data.txt.enc'):\n",
        "    while True:\n",
        "        password = str(input(\"Enter password: \"))\n",
        "        enc.decrypt_file(\"data.txt.enc\")\n",
        "        p = ''\n",
        "        with open(\"data.txt\", \"r\") as f:\n",
        "            p = f.readlines()\n",
        "        if p[0] == password:\n",
        "            enc.encrypt_file(\"data.txt\")\n",
        "            break\n",
        "\n",
        "    while True:\n",
        "        clear()\n",
        "        choice = int(input(\n",
        "            \"1. Press '1' to encrypt file.\\n2. Press '2' to decrypt file.\\n3. Press '3' to Encrypt all files in the directory.\\n4. Press '4' to decrypt all files in the directory.\\n5. Press '5' to exit.\\n\"))\n",
        "        clear()\n",
        "        if choice == 1:\n",
        "            enc.encrypt_file(str(input(\"Enter name of file to encrypt: \")))\n",
        "        elif choice == 2:\n",
        "            enc.decrypt_file(str(input(\"Enter name of file to decrypt: \")))\n",
        "        elif choice == 3:\n",
        "            enc.encrypt_all_files()\n",
        "        elif choice == 4:\n",
        "            enc.decrypt_all_files()\n",
        "        elif choice == 5:\n",
        "            exit()\n",
        "        else:\n",
        "            print(\"Please select a valid option!\")\n",
        "\n",
        "else:\n",
        "    while True:\n",
        "        clear()\n",
        "        password = str(input(\"Setting up stuff. Enter a password that will be used for decryption: \"))\n",
        "        repassword = str(input(\"Confirm password: \"))\n",
        "        if password == repassword:\n",
        "            break\n",
        "        else:\n",
        "            print(\"Passwords Mismatched!\")\n",
        "    f = open(\"data.txt\", \"w+\")\n",
        "    f.write(password)\n",
        "    f.close()\n",
        "    enc.encrypt_file(\"data.txt\")\n",
        "    print(\"Please restart the program to complete the setup\")\n",
        "    time.sleep(15)\n"
      ],
      "metadata": {
        "colab": {
          "base_uri": "https://localhost:8080/"
        },
        "id": "e1rCITb1ZGQO",
        "outputId": "0565ed44-ce67-47cf-e9de-c564171baa92"
      },
      "execution_count": null,
      "outputs": [
        {
          "name": "stdout",
          "output_type": "stream",
          "text": [
            "Enter password: jhatu\n",
            "1. Press '1' to encrypt file.\n",
            "2. Press '2' to decrypt file.\n",
            "3. Press '3' to Encrypt all files in the directory.\n",
            "4. Press '4' to decrypt all files in the directory.\n",
            "5. Press '5' to exit.\n",
            "1\n",
            "Enter name of file to encrypt: /content/Credit Card Number.txt\n",
            "1. Press '1' to encrypt file.\n",
            "2. Press '2' to decrypt file.\n",
            "3. Press '3' to Encrypt all files in the directory.\n",
            "4. Press '4' to decrypt all files in the directory.\n",
            "5. Press '5' to exit.\n",
            "2\n",
            "Enter name of file to decrypt: /content/Credit Card Number.txt.enc\n"
          ]
        }
      ]
    },
    {
      "cell_type": "code",
      "source": [],
      "metadata": {
        "id": "xH22BB1wapke"
      },
      "execution_count": null,
      "outputs": []
    },
    {
      "cell_type": "code",
      "source": [],
      "metadata": {
        "id": "-7Zq-gzJdq6m"
      },
      "execution_count": null,
      "outputs": []
    }
  ]
}